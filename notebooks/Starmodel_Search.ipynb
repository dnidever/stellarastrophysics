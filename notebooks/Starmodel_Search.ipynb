{
 "cells": [
  {
   "cell_type": "markdown",
   "metadata": {},
   "source": [
    "# Grid Search to Find Good Solution"
   ]
  },
  {
   "cell_type": "code",
   "execution_count": 121,
   "metadata": {},
   "outputs": [],
   "source": [
    "# Imports\n",
    "import numpy as np\n",
    "from astropy.table import Table\n",
    "import matplotlib.pyplot as plt\n",
    "from starmodel2 import starmodel\n",
    "import matplotlib.colors as colors\n",
    "%matplotlib inline"
   ]
  },
  {
   "cell_type": "code",
   "execution_count": 122,
   "metadata": {},
   "outputs": [],
   "source": [
    " def gridsearch(pars,lumrange,teffrange,nlum=10,nteff=10,verbose=False):\n",
    "    \"\"\"\n",
    "    Run a grid search of starmodel.\n",
    "    \n",
    "    Parameters\n",
    "    ----------\n",
    "    pars : list\n",
    "    \n",
    "    lumrange : list\n",
    "    \n",
    "    dlum : float\n",
    "    \n",
    "    teffrange : list\n",
    "    \n",
    "    dteff : float\n",
    "    \n",
    "    \n",
    "    Returns\n",
    "    -------\n",
    "    data : dict\n",
    "       Dictionary with all of the information\n",
    "       \n",
    "    Example\n",
    "    -------\n",
    "    \n",
    "    data = gridsearch([1.0,0.70,0.08],[0.8,1.2],0.02,[5000.0,6000.0],50)\n",
    "    \n",
    "    \"\"\"\n",
    "    # pars should be [total mass, X, Z]\n",
    "    totmass = pars[0]\n",
    "    X = pars[1]\n",
    "    Z = pars[2]\n",
    "    \"\"\" Search a grid in Luminosity and Teff\"\"\"\n",
    "    luminosity = np.linspace(lumrange[0],lumrange[1],nlum,endpoint=True)\n",
    "    temperature = np.linspace(teffrange[0],teffrange[1],nteff,endpoint=True)\n",
    "    print('Search grid is ',len(luminosity),' x ',len(temperature))\n",
    "    igoof = np.zeros((len(luminosity),len(temperature)),int)\n",
    "    mass0 = np.zeros((len(luminosity),len(temperature)),float)\n",
    "    lum0 = np.zeros((len(luminosity),len(temperature)),float)\n",
    "    temp0 = np.zeros((len(luminosity),len(temperature)),float)\n",
    "    for i,lum in enumerate(luminosity):\n",
    "        for j,teff in enumerate(temperature):\n",
    "            Igoof,ierr,istop,tab = starmodel(totmass,lum,teff,X,Z,verbose=False)\n",
    "            igoof[i,j] = Igoof\n",
    "            mass0[i,j] = tab['M'][-1]  # central shell\n",
    "            lum0[i,j] = tab['L'][-1]   # central shell\n",
    "            temp0[i,j] = tab['T'][-1]  # central shell\n",
    "            if verbose:\n",
    "                print(lum,teff,Igoof,mass0[i,j],lum0[i,j],temp0[i,j])\n",
    "    \n",
    "    data = {'luminosity':luminosity,'temperature':temperature,'igoof':igoof,\n",
    "            'mass0':mass0,'lum0':lum0,'temp0':temp0}\n",
    "    return data"
   ]
  },
  {
   "cell_type": "code",
   "execution_count": 123,
   "metadata": {},
   "outputs": [],
   "source": [
    "def analyzeresults(data):\n",
    "    \"\"\" Analyze the grid results \"\"\"\n",
    "    \n",
    "    luminosity = data['luminosity']\n",
    "    temperature = data['temperature']\n",
    "    mass0 = data['mass0']\n",
    "    lum0 = data['lum0']\n",
    "    temp0 = data['temp0']\n",
    "        \n",
    "    fig,axs = plt.subplots(3,1,figsize=(8,20))\n",
    "        \n",
    "    # Mass results\n",
    "    print('Mass results')\n",
    "    print('------------')\n",
    "    print('Min M0=',np.min(mass0))\n",
    "    print('Max M0=',np.max(mass0))\n",
    "    print('Min |M0|=',np.min(np.abs(mass0)))\n",
    "    bestind = np.unravel_index(np.argmin(np.abs(mass0), axis=None), mass0.shape)\n",
    "    print('Best index = ',bestind)\n",
    "    print('Best Luminosity=',luminosity[bestind[0]])\n",
    "    print('Best Temperature=',temperature[bestind[1]])\n",
    "    print(' ')\n",
    "    im1 = axs[0].imshow(mass0,extent=[temperature[0],temperature[-1],luminosity[0],luminosity[-1]],\n",
    "               origin='lower',aspect='auto')\n",
    "    axs[0].scatter(temperature[bestind[1]],luminosity[bestind[0]],c='r',marker='+',s=200)\n",
    "    plt.colorbar(im1, ax=axs[0])\n",
    "    \n",
    "    # Luminosity results\n",
    "    #print('Luminosity Results')\n",
    "    #print('------------------')\n",
    "    #print('Min M0=',np.min(lum0))\n",
    "    #print('Max M0=',np.max(lum0))\n",
    "    #print('Min |M0|=',np.min(np.abs(lum0)))\n",
    "    #bestind = np.unravel_index(np.argmin(np.abs(lum0), axis=None), mass0.shape)\n",
    "    #print('Best index = ',bestind)\n",
    "    #print('Best Luminosity=',luminosity[bestind[0]])\n",
    "    #print('Best Temperature=',temperature[bestind[1]])\n",
    "    #print(' ')\n",
    "    im2 = axs[1].imshow(lum0,extent=[temperature[0],temperature[-1],luminosity[0],luminosity[-1]],\n",
    "               origin='lower',aspect='auto')\n",
    "    #axs[1].scatter(temperature[bestind[1]],luminosity[bestind[0]],c='r',marker='+',s=200)\n",
    "    plt.colorbar(im2, ax=axs[1])\n",
    "        \n",
    "    # Temperature figure\n",
    "    im3 = axs[2].imshow(temp0,extent=[temperature[0],temperature[-1],luminosity[0],luminosity[-1]],\n",
    "               origin='lower',aspect='auto')\n",
    "    plt.colorbar(im3, ax=axs[2])"
   ]
  },
  {
   "cell_type": "code",
   "execution_count": 209,
   "metadata": {
    "scrolled": true
   },
   "outputs": [
    {
     "name": "stdout",
     "output_type": "stream",
     "text": [
      "Search grid is  40  x  40\n"
     ]
    }
   ],
   "source": [
    "data = gridsearch([50.0,0.70,0.008],[97155,97170],[47740.0,47810.0],nlum=40,nteff=40)"
   ]
  },
  {
   "cell_type": "code",
   "execution_count": 210,
   "metadata": {},
   "outputs": [
    {
     "name": "stdout",
     "output_type": "stream",
     "text": [
      "Mass results\n",
      "------------\n",
      "Min M0= -3.2308860904193716e+33\n",
      "Max M0= -3.3396375914252376e+28\n",
      "Min |M0|= 3.3396375914252376e+28\n",
      "Best index =  (2, 21)\n",
      "Best Luminosity= 97155.76923076923\n",
      "Best Temperature= 47777.692307692305\n",
      " \n"
     ]
    },
    {
     "data": {
      "image/png": "[encoded data removed]",
      "text/plain": [
       "<Figure size 576x1440 with 6 Axes>"
      ]
     },
     "metadata": {
      "needs_background": "light"
     },
     "output_type": "display_data"
    }
   ],
   "source": [
    "analyzeresults(data)"
   ]
  },
  {
   "cell_type": "markdown",
   "metadata": {},
   "source": [
    "# Run example\n",
    "mass = 1.0 <br>\n",
    "luminosity = 0.86071 <br>\n",
    "teff = 5500.2 <br>\n",
    "X = 0.70 <br>\n",
    "Z = 0.008"
   ]
  },
  {
   "cell_type": "code",
   "execution_count": null,
   "metadata": {},
   "outputs": [],
   "source": [
    "Igoof,ierr,istop,tab = starmodel(0.8,0.22456,3960,0.70,0.008)"
   ]
  },
  {
   "cell_type": "code",
   "execution_count": 206,
   "metadata": {},
   "outputs": [
    {
     "name": "stdout",
     "output_type": "stream",
     "text": [
      "Central M= 9.945e+34\n",
      "Central L= 5.74496856e+38\n"
     ]
    }
   ],
   "source": [
    "print('Central M=',tab['M'][-1])\n",
    "print('Central L=',tab['L'][-1])"
   ]
  },
  {
   "cell_type": "code",
   "execution_count": 207,
   "metadata": {},
   "outputs": [
    {
     "data": {
      "text/plain": [
       "[<matplotlib.lines.Line2D at 0x14caf1190>]"
      ]
     },
     "execution_count": 207,
     "metadata": {},
     "output_type": "execute_result"
    },
    {
     "data": {
      "image/png": "[encoded data removed]",
      "text/plain": [
       "<Figure size 432x288 with 1 Axes>"
      ]
     },
     "metadata": {
      "needs_background": "light"
     },
     "output_type": "display_data"
    }
   ],
   "source": [
    "plt.plot(tab['r'],tab['M'])"
   ]
  },
  {
   "cell_type": "code",
   "execution_count": 208,
   "metadata": {},
   "outputs": [
    {
     "data": {
      "text/plain": [
       "[<matplotlib.lines.Line2D at 0x14eb88790>]"
      ]
     },
     "execution_count": 208,
     "metadata": {},
     "output_type": "execute_result"
    },
    {
     "data": {
      "image/png": "[encoded data removed]",
      "text/plain": [
       "<Figure size 432x288 with 1 Axes>"
      ]
     },
     "metadata": {
      "needs_background": "light"
     },
     "output_type": "display_data"
    }
   ],
   "source": [
    "plt.plot(tab['r'],tab['L'])"
   ]
  },
  {
   "cell_type": "code",
   "execution_count": null,
   "metadata": {},
   "outputs": [],
   "source": []
  }
 ],
 "metadata": {
  "kernelspec": {
   "display_name": "Python 3",
   "language": "python",
   "name": "python3"
  },
  "language_info": {
   "codemirror_mode": {
    "name": "ipython",
    "version": 3
   },
   "file_extension": ".py",
   "mimetype": "text/x-python",
   "name": "python",
   "nbconvert_exporter": "python",
   "pygments_lexer": "ipython3",
   "version": "3.7.4"
  }
 },
 "nbformat": 4,
 "nbformat_minor": 2
}
