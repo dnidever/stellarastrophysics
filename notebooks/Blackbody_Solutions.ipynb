{
 "cells": [
  {
   "cell_type": "markdown",
   "metadata": {},
   "source": [
    "# Blackbody"
   ]
  },
  {
   "cell_type": "markdown",
   "metadata": {},
   "source": [
    "Useful links:<br>\n",
    "https://docs.astropy.org/en/stable/api/astropy.modeling.physical_models.BlackBody.html"
   ]
  },
  {
   "cell_type": "code",
   "execution_count": 13,
   "metadata": {},
   "outputs": [],
   "source": [
    "# Imports\n",
    "import matplotlib.pyplot as plt\n",
    "%matplotlib inline"
   ]
  },
  {
   "cell_type": "code",
   "execution_count": 156,
   "metadata": {},
   "outputs": [],
   "source": [
    "# Blackbody function\n",
    "def blackbody(wave,temp):\n",
    "    \"\"\"\n",
    "    Make a blackbody function\n",
    "    \n",
    "    Parameters\n",
    "    ----------\n",
    "    wave : numpy array\n",
    "       Array of wavelength values in Angstroms.\n",
    "    temp : float\n",
    "       Temperature in K.\n",
    "       \n",
    "    Returns\n",
    "    -------\n",
    "    \n",
    "    bb_lambda : numpy array\n",
    "       Blackbody/Planck function.\n",
    "       \n",
    "    \"\"\"\n",
    "    wave_m = wave * 1e-10\n",
    "    h = 6.62607015e-34  # Planck's constant [J s]\n",
    "    c = 299792458.0     # speed of light [m/s]\n",
    "    k = 1.380649e-23    # Boltzmann's constant [J / K]\n",
    "    bb_lambda = (2 * h * c**2 / wave_m**5) / (np.exp((h*c)/(wave_m*k*temp))-1)\n",
    "    # This now has units of W/m^2/m/sr, but it's more standard to use per nm or per Angstrom\n",
    "    #  multipy by 1e-10 to convert to per Angstrom\n",
    "    bb_lambda *= 1e-10\n",
    "    \n",
    "    return bb_lambda"
   ]
  },
  {
   "cell_type": "code",
   "execution_count": 157,
   "metadata": {},
   "outputs": [],
   "source": [
    "# Blackbody function\n",
    "def blackbody_cgs(wave,temp):\n",
    "    \"\"\"\n",
    "    Make a blackbody function\n",
    "    \n",
    "    Parameters\n",
    "    ----------\n",
    "    wave : numpy array\n",
    "       Array of wavelength values in Angstroms.\n",
    "    temp : float\n",
    "       Temperature in K.\n",
    "       \n",
    "    Returns\n",
    "    -------\n",
    "    \n",
    "    bb_lambda : numpy array\n",
    "       Blackbody/Planck function.\n",
    "       \n",
    "    \"\"\"\n",
    "    wave_m = wave * 1e-8\n",
    "    h = 6.626076e-27         # planck's constant (erg s)\n",
    "    c = 2.99792458e10        # speed of light (cm/s)\n",
    "    k = 1.38066e-16          # boltzmann constant (erg/K)\n",
    "    bb_lambda = (2 * h * c**2 / wave_m**5) / (np.exp((h*c)/(wave_m*k*temp))-1)\n",
    "    bb_lambda *= 1e40\n",
    "    \n",
    "    return bb_lambda"
   ]
  },
  {
   "cell_type": "code",
   "execution_count": 158,
   "metadata": {},
   "outputs": [],
   "source": [
    "wave = np.arange(2000.0,20000.0,1)\n",
    "#wave = np.arange(0.1,200.0,0.05)"
   ]
  },
  {
   "cell_type": "code",
   "execution_count": null,
   "metadata": {},
   "outputs": [],
   "source": []
  },
  {
   "cell_type": "code",
   "execution_count": 161,
   "metadata": {},
   "outputs": [],
   "source": [
    "bb = blackbody(wave,5777)"
   ]
  },
  {
   "cell_type": "code",
   "execution_count": 162,
   "metadata": {},
   "outputs": [
    {
     "data": {
      "text/plain": [
       "[<matplotlib.lines.Line2D at 0x148979c50>]"
      ]
     },
     "execution_count": 162,
     "metadata": {},
     "output_type": "execute_result"
    },
    {
     "data": {
      "image/png": "[encoded data removed]",
      "text/plain": [
       "<Figure size 432x288 with 1 Axes>"
      ]
     },
     "metadata": {
      "needs_background": "light"
     },
     "output_type": "display_data"
    }
   ],
   "source": [
    "plt.plot(wave,bb)"
   ]
  },
  {
   "cell_type": "code",
   "execution_count": 65,
   "metadata": {},
   "outputs": [
    {
     "data": {
      "text/plain": [
       "array([1.45435567e+12, 1.45978157e+12, 1.46522044e+12, ...,\n",
       "       1.50527623e+12, 1.50503152e+12, 1.50478685e+12])"
      ]
     },
     "execution_count": 65,
     "metadata": {},
     "output_type": "execute_result"
    }
   ],
   "source": [
    "bb"
   ]
  },
  {
   "cell_type": "code",
   "execution_count": 66,
   "metadata": {},
   "outputs": [],
   "source": [
    "  wave_m = wave * 1e-9\n",
    "    "
   ]
  },
  {
   "cell_type": "code",
   "execution_count": 67,
   "metadata": {},
   "outputs": [
    {
     "data": {
      "text/plain": [
       "array([2.0000e-06, 2.0010e-06, 2.0020e-06, ..., 1.9997e-05, 1.9998e-05,\n",
       "       1.9999e-05])"
      ]
     },
     "execution_count": 67,
     "metadata": {},
     "output_type": "execute_result"
    }
   ],
   "source": [
    "wave_m"
   ]
  },
  {
   "cell_type": "code",
   "execution_count": 68,
   "metadata": {},
   "outputs": [
    {
     "data": {
      "text/plain": [
       "59249419.64791344"
      ]
     },
     "execution_count": 68,
     "metadata": {},
     "output_type": "execute_result"
    }
   ],
   "source": [
    "np.sum(bb)*1e-10 *np.pi"
   ]
  },
  {
   "cell_type": "markdown",
   "metadata": {},
   "source": [
    "# Stefan-Boltzmann law\n",
    "$F = \\sigma * T^4$"
   ]
  },
  {
   "cell_type": "code",
   "execution_count": 54,
   "metadata": {},
   "outputs": [
    {
     "ename": "NameError",
     "evalue": "name 'temp' is not defined",
     "output_type": "error",
     "traceback": [
      "\u001b[0;31m---------------------------------------------------------------------------\u001b[0m",
      "\u001b[0;31mNameError\u001b[0m                                 Traceback (most recent call last)",
      "\u001b[0;32m<ipython-input-54-3b2b54b1a6a6>\u001b[0m in \u001b[0;36m<module>\u001b[0;34m\u001b[0m\n\u001b[1;32m      1\u001b[0m \u001b[0msigma\u001b[0m \u001b[0;34m=\u001b[0m \u001b[0;36m5.6704e-8\u001b[0m  \u001b[0;31m# Stefan-Boltzmann constant [J/s/m^2/K^4]\u001b[0m\u001b[0;34m\u001b[0m\u001b[0;34m\u001b[0m\u001b[0m\n\u001b[0;32m----> 2\u001b[0;31m \u001b[0mflux\u001b[0m \u001b[0;34m=\u001b[0m \u001b[0msigma\u001b[0m \u001b[0;34m*\u001b[0m \u001b[0mtemp\u001b[0m\u001b[0;34m**\u001b[0m\u001b[0;36m4\u001b[0m\u001b[0;34m\u001b[0m\u001b[0;34m\u001b[0m\u001b[0m\n\u001b[0m",
      "\u001b[0;31mNameError\u001b[0m: name 'temp' is not defined"
     ]
    }
   ],
   "source": [
    "sigma = 5.6704e-8  # Stefan-Boltzmann constant [J/s/m^2/K^4]\n",
    "flux = sigma * temp**4"
   ]
  },
  {
   "cell_type": "code",
   "execution_count": 55,
   "metadata": {},
   "outputs": [
    {
     "data": {
      "text/plain": [
       "63157243.36676997"
      ]
     },
     "execution_count": 55,
     "metadata": {},
     "output_type": "execute_result"
    }
   ],
   "source": [
    "sigma*5777.**4"
   ]
  },
  {
   "cell_type": "markdown",
   "metadata": {},
   "source": [
    "# Exercises"
   ]
  },
  {
   "cell_type": "markdown",
   "metadata": {},
   "source": [
    "**1) Find the Blackbody function for a star with temperature T=5777K.  Plot it versus wavelength for 1000 to 20,000 A in steps of 1A.**"
   ]
  },
  {
   "cell_type": "code",
   "execution_count": 163,
   "metadata": {},
   "outputs": [
    {
     "data": {
      "text/plain": [
       "[<matplotlib.lines.Line2D at 0x148ebf3d0>]"
      ]
     },
     "execution_count": 163,
     "metadata": {},
     "output_type": "execute_result"
    },
    {
     "data": {
      "image/png": "[encoded data removed]",
      "text/plain": [
       "<Figure size 432x288 with 1 Axes>"
      ]
     },
     "metadata": {
      "needs_background": "light"
     },
     "output_type": "display_data"
    }
   ],
   "source": [
    "bb = blackbody(wave,5777)\n",
    "plt.plot(wave,bb)"
   ]
  },
  {
   "cell_type": "markdown",
   "metadata": {},
   "source": [
    "**2) Plot the Blackbody functions for objects with temperatures 4000, 5777, and 7000K on a single plot using the same wavelength range as for question 1**"
   ]
  },
  {
   "cell_type": "code",
   "execution_count": null,
   "metadata": {},
   "outputs": [],
   "source": []
  },
  {
   "cell_type": "code",
   "execution_count": 183,
   "metadata": {},
   "outputs": [
    {
     "data": {
      "text/plain": [
       "[<matplotlib.lines.Line2D at 0x149a9cdd0>]"
      ]
     },
     "execution_count": 183,
     "metadata": {},
     "output_type": "execute_result"
    },
    {
     "data": {
      "image/png": "[encoded data removed]",
      "text/plain": [
       "<Figure size 432x288 with 1 Axes>"
      ]
     },
     "metadata": {
      "needs_background": "light"
     },
     "output_type": "display_data"
    }
   ],
   "source": [
    "#wave = np.arange(0.01,200.0,0.01)\n",
    "wave = np.arange(1000.0,20000.0,1)\n",
    "#bb100 = blackbody(wave,100.0)\n",
    "bb4000 = blackbody(wave,4000.0)\n",
    "bb5777 = blackbody(wave,5777.0)\n",
    "bb7000 = blackbody(wave,7000.0)\n",
    "#plt.plot(wave,bb100)\n",
    "plt.plot(wave,bb4000)\n",
    "plt.plot(wave,bb5777)\n",
    "plt.plot(wave,bb7000)\n"
   ]
  },
  {
   "cell_type": "code",
   "execution_count": 135,
   "metadata": {},
   "outputs": [
    {
     "data": {
      "text/plain": [
       "[<matplotlib.lines.Line2D at 0x149319fd0>]"
      ]
     },
     "execution_count": 135,
     "metadata": {},
     "output_type": "execute_result"
    },
    {
     "data": {
      "image/png": "[encoded data removed]",
      "text/plain": [
       "<Figure size 432x288 with 1 Axes>"
      ]
     },
     "metadata": {
      "needs_background": "light"
     },
     "output_type": "display_data"
    }
   ],
   "source": [
    "wave = np.arange(200.0,1400.0,1)\n",
    "bb4000 = blackbody(wave,4000.0)\n",
    "bb5777 = blackbody(wave,5777.0)\n",
    "bb7000 = blackbody(wave,7000.0)\n",
    "plt.plot(wave,bb4000)\n",
    "plt.plot(wave,bb5777)\n",
    "plt.plot(wave,bb7000)\n"
   ]
  },
  {
   "cell_type": "markdown",
   "metadata": {},
   "source": [
    "**3) Not find the blackbody function for a temperature of 300 K.  Overplot this with at least one of the stellar blackbody curves.  Note, you might have to extend the x-axis to longer wavelengths.**"
   ]
  },
  {
   "cell_type": "code",
   "execution_count": 130,
   "metadata": {},
   "outputs": [],
   "source": [
    "wave = np.arange(2000.0,500000.0,1)"
   ]
  },
  {
   "cell_type": "code",
   "execution_count": 185,
   "metadata": {},
   "outputs": [
    {
     "data": {
      "text/plain": [
       "63157243.36676997"
      ]
     },
     "execution_count": 185,
     "metadata": {},
     "output_type": "execute_result"
    }
   ],
   "source": [
    "sigma * 5777.**4"
   ]
  },
  {
   "cell_type": "code",
   "execution_count": 190,
   "metadata": {},
   "outputs": [
    {
     "data": {
      "text/plain": [
       "59313232.04297275"
      ]
     },
     "execution_count": 190,
     "metadata": {},
     "output_type": "execute_result"
    }
   ],
   "source": [
    "np.sum(bb5777)*3.14"
   ]
  },
  {
   "cell_type": "markdown",
   "metadata": {},
   "source": [
    "**3) Determine lambda-max for the four temperatures using Wien's Law.  Do these values make sense based on your blackbody curves?  Overplot the values on the curves with plt.vlines(x,ymin,ymax)**"
   ]
  },
  {
   "cell_type": "code",
   "execution_count": null,
   "metadata": {},
   "outputs": [],
   "source": []
  },
  {
   "cell_type": "markdown",
   "metadata": {},
   "source": [
    "**4) Integrate the blackbody functions in wavelength to get the total power (don't forget delta_lambda).  Compare the three values.  Do the results make sense based on the Stefan-Boltzmann Law.**"
   ]
  },
  {
   "cell_type": "code",
   "execution_count": null,
   "metadata": {},
   "outputs": [],
   "source": []
  },
  {
   "cell_type": "markdown",
   "metadata": {},
   "source": [
    "**5) Compare your values to what you get from the Stefan-Boltzmann law.  Do they agree?**"
   ]
  },
  {
   "cell_type": "code",
   "execution_count": null,
   "metadata": {},
   "outputs": [],
   "source": []
  }
 ],
 "metadata": {
  "kernelspec": {
   "display_name": "Python 3",
   "language": "python",
   "name": "python3"
  },
  "language_info": {
   "codemirror_mode": {
    "name": "ipython",
    "version": 3
   },
   "file_extension": ".py",
   "mimetype": "text/x-python",
   "name": "python",
   "nbconvert_exporter": "python",
   "pygments_lexer": "ipython3",
   "version": "3.7.4"
  }
 },
 "nbformat": 4,
 "nbformat_minor": 2
}
