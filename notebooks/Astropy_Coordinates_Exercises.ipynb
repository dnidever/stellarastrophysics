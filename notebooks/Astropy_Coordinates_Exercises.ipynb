{
 "cells": [
  {
   "cell_type": "markdown",
   "metadata": {},
   "source": [
    "# Coordinates with astropy"
   ]
  },
  {
   "cell_type": "markdown",
   "metadata": {},
   "source": [
    "Useful links:<br>\n",
    "https://docs.astropy.org/en/stable/coordinates/ <br>\n",
    "http://learn.astropy.org/rst-tutorials/Coordinates-Transform.html#exercise-1"
   ]
  },
  {
   "cell_type": "code",
   "execution_count": 4,
   "metadata": {},
   "outputs": [],
   "source": [
    "# Imports\n",
    "from astropy import units as u\n",
    "from astropy.coordinates import SkyCoord"
   ]
  },
  {
   "cell_type": "code",
   "execution_count": 5,
   "metadata": {},
   "outputs": [],
   "source": [
    "c = SkyCoord(ra=10.625*u.degree, dec=41.2*u.degree, frame='icrs')"
   ]
  },
  {
   "cell_type": "code",
   "execution_count": 6,
   "metadata": {},
   "outputs": [
    {
     "data": {
      "text/plain": [
       "<SkyCoord (ICRS): (ra, dec) in deg\n",
       "    (10.625, 41.2)>"
      ]
     },
     "execution_count": 6,
     "metadata": {},
     "output_type": "execute_result"
    }
   ],
   "source": [
    "c"
   ]
  },
  {
   "cell_type": "code",
   "execution_count": 9,
   "metadata": {},
   "outputs": [
    {
     "data": {
      "text/latex": [
       "$41^\\circ12{}^\\prime00{}^{\\prime\\prime}$"
      ],
      "text/plain": [
       "<Latitude 41.2 deg>"
      ]
     },
     "execution_count": 9,
     "metadata": {},
     "output_type": "execute_result"
    }
   ],
   "source": [
    "c.dec"
   ]
  },
  {
   "cell_type": "code",
   "execution_count": 10,
   "metadata": {},
   "outputs": [
    {
     "data": {
      "text/plain": [
       "'10d37m30s 41d12m00s'"
      ]
     },
     "execution_count": 10,
     "metadata": {},
     "output_type": "execute_result"
    }
   ],
   "source": [
    "c.to_string('dms')"
   ]
  },
  {
   "cell_type": "code",
   "execution_count": 11,
   "metadata": {},
   "outputs": [
    {
     "name": "stdout",
     "output_type": "stream",
     "text": [
      "Help on method to_string in module astropy.coordinates.sky_coordinate:\n",
      "\n",
      "to_string(style='decimal', **kwargs) method of astropy.coordinates.sky_coordinate.SkyCoord instance\n",
      "    A string representation of the coordinates.\n",
      "    \n",
      "    The default styles definitions are::\n",
      "    \n",
      "      'decimal': 'lat': {'decimal': True, 'unit': \"deg\"}\n",
      "                 'lon': {'decimal': True, 'unit': \"deg\"}\n",
      "      'dms': 'lat': {'unit': \"deg\"}\n",
      "             'lon': {'unit': \"deg\"}\n",
      "      'hmsdms': 'lat': {'alwayssign': True, 'pad': True, 'unit': \"deg\"}\n",
      "                'lon': {'pad': True, 'unit': \"hour\"}\n",
      "    \n",
      "    See :meth:`~astropy.coordinates.Angle.to_string` for details and\n",
      "    keyword arguments (the two angles forming the coordinates are are\n",
      "    both :class:`~astropy.coordinates.Angle` instances). Keyword\n",
      "    arguments have precedence over the style defaults and are passed\n",
      "    to :meth:`~astropy.coordinates.Angle.to_string`.\n",
      "    \n",
      "    Parameters\n",
      "    ----------\n",
      "    style : {'hmsdms', 'dms', 'decimal'}\n",
      "        The formatting specification to use. These encode the three most\n",
      "        common ways to represent coordinates. The default is `decimal`.\n",
      "    kwargs\n",
      "        Keyword args passed to :meth:`~astropy.coordinates.Angle.to_string`.\n",
      "\n"
     ]
    }
   ],
   "source": [
    "help(c.to_string)"
   ]
  },
  {
   "cell_type": "code",
   "execution_count": 12,
   "metadata": {},
   "outputs": [
    {
     "data": {
      "text/plain": [
       "'00h42m30s +41d12m00s'"
      ]
     },
     "execution_count": 12,
     "metadata": {},
     "output_type": "execute_result"
    }
   ],
   "source": [
    "c.to_string('hmsdms')"
   ]
  },
  {
   "cell_type": "code",
   "execution_count": 12,
   "metadata": {},
   "outputs": [
    {
     "data": {
      "text/plain": [
       "<SkyCoord (Galactic): (l, b) in deg\n",
       "    (121.12334339, -21.6403587)>"
      ]
     },
     "execution_count": 12,
     "metadata": {},
     "output_type": "execute_result"
    }
   ],
   "source": [
    "c.galactic"
   ]
  },
  {
   "cell_type": "code",
   "execution_count": 17,
   "metadata": {},
   "outputs": [
    {
     "data": {
      "text/plain": [
       "<SkyCoord (GeocentricTrueEcliptic: equinox=J2000.000, obstime=J2000.000): (lon, lat, distance) in (deg, deg, )\n",
       "    (27.76227301, 33.311141, 1.)>"
      ]
     },
     "execution_count": 17,
     "metadata": {},
     "output_type": "execute_result"
    }
   ],
   "source": [
    "c.transform_to('geocentrictrueecliptic')"
   ]
  },
  {
   "cell_type": "markdown",
   "metadata": {},
   "source": [
    "**1) Create a SkyCoord object for RA=129.456 deg, DEC=+23.92345 deg.**"
   ]
  },
  {
   "cell_type": "code",
   "execution_count": null,
   "metadata": {},
   "outputs": [],
   "source": []
  },
  {
   "cell_type": "markdown",
   "metadata": {},
   "source": [
    "**2) Print out the coordinates in HH:MM:SS DD:MM:SS format.**"
   ]
  },
  {
   "cell_type": "code",
   "execution_count": null,
   "metadata": {},
   "outputs": [],
   "source": []
  },
  {
   "cell_type": "markdown",
   "metadata": {},
   "source": [
    "**3) Convert the coordinates to the Galactic coordinate system and print them out.**"
   ]
  },
  {
   "cell_type": "code",
   "execution_count": null,
   "metadata": {},
   "outputs": [],
   "source": []
  },
  {
   "cell_type": "markdown",
   "metadata": {},
   "source": [
    "**4) What are the equatorial coordinates (in degrees) of the (1) Galactic center (l=0, b=0), (2), the North Galactic Pole, and (3) the direction of Galactic rotation (l=90, b=0)?**"
   ]
  },
  {
   "cell_type": "code",
   "execution_count": null,
   "metadata": {},
   "outputs": [],
   "source": []
  },
  {
   "cell_type": "markdown",
   "metadata": {},
   "source": [
    "**5) Create a squence of coordinates for the Galactic equator in steps of 5 deg (l=0, 5, 10, ..., b=0, 0, 0, ...) and convert them to the equatorial system.**"
   ]
  },
  {
   "cell_type": "code",
   "execution_count": null,
   "metadata": {},
   "outputs": [],
   "source": [
    "use np.arange() or np.linspace()"
   ]
  },
  {
   "cell_type": "markdown",
   "metadata": {},
   "source": [
    "**6) Plot the equatorial coordinates of the Galactic equator.**"
   ]
  },
  {
   "cell_type": "code",
   "execution_count": null,
   "metadata": {},
   "outputs": [],
   "source": [
    "import matplotlib.pyplot as plt\n",
    "plt.plot(a,b)"
   ]
  },
  {
   "cell_type": "markdown",
   "metadata": {},
   "source": [
    "**7) Precess the coordinates from #1 from J2000.0 to J2020.0 (using FK5()).  How big of a shift is it?**"
   ]
  },
  {
   "cell_type": "code",
   "execution_count": null,
   "metadata": {},
   "outputs": [],
   "source": [
    "use equinox parameter to SkyCoord\n",
    "use separation() method to get angular distance between two SkyCoords"
   ]
  }
 ],
 "metadata": {
  "kernelspec": {
   "display_name": "Python 3",
   "language": "python",
   "name": "python3"
  },
  "language_info": {
   "codemirror_mode": {
    "name": "ipython",
    "version": 3
   },
   "file_extension": ".py",
   "mimetype": "text/x-python",
   "name": "python",
   "nbconvert_exporter": "python",
   "pygments_lexer": "ipython3",
   "version": "3.7.4"
  }
 },
 "nbformat": 4,
 "nbformat_minor": 2
}
